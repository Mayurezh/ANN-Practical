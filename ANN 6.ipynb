{
 "cells": [
  {
   "cell_type": "code",
   "execution_count": 1,
   "id": "9380d1bb",
   "metadata": {},
   "outputs": [],
   "source": [
    "#Name- Ali Khan\n",
    "#Roll no-23"
   ]
  },
  {
   "cell_type": "code",
   "execution_count": 2,
   "id": "49b262f1",
   "metadata": {},
   "outputs": [
    {
     "name": "stdout",
     "output_type": "stream",
     "text": [
      "Epoch 0, Loss: 0.4994\n",
      "Epoch 1000, Loss: 0.4997\n",
      "Epoch 2000, Loss: 0.4990\n",
      "Epoch 3000, Loss: 0.4944\n",
      "Epoch 4000, Loss: 0.4553\n",
      "Epoch 5000, Loss: 0.3682\n",
      "Epoch 6000, Loss: 0.2284\n",
      "Epoch 7000, Loss: 0.1335\n",
      "Epoch 8000, Loss: 0.0952\n",
      "Epoch 9000, Loss: 0.0757\n",
      "\n",
      "Final Predictions:\n",
      "Input: [0 0] => Predicted: 0.0650\n",
      "Input: [0 1] => Predicted: 0.9429\n",
      "Input: [1 0] => Predicted: 0.9331\n",
      "Input: [1 1] => Predicted: 0.0662\n"
     ]
    }
   ],
   "source": [
    "\n",
    "import numpy as np\n",
    "\n",
    "# Activation function (Sigmoid) and its derivative\n",
    "def sigmoid(x):\n",
    "    return 1 / (1 + np.exp(-x))\n",
    "\n",
    "def sigmoid_derivative(x):\n",
    "    return x * (1 - x)  # Derivative of sigmoid\n",
    "\n",
    "# Training data (XOR problem)\n",
    "X = np.array([[0, 0], [0, 1], [1, 0], [1, 1]])  # Input features\n",
    "y = np.array([[0], [1], [1], [0]])  # Target labels\n",
    "\n",
    "# Initialize weights and biases randomly\n",
    "np.random.seed(1)\n",
    "input_neurons, hidden_neurons, output_neurons = 2, 4, 1\n",
    "\n",
    "weights_input_hidden = np.random.rand(input_neurons, hidden_neurons)\n",
    "weights_hidden_output = np.random.rand(hidden_neurons, output_neurons)\n",
    "bias_hidden = np.random.rand(1, hidden_neurons)\n",
    "bias_output = np.random.rand(1, output_neurons)\n",
    "\n",
    "# Training process\n",
    "epochs = 10000\n",
    "learning_rate = 0.1\n",
    "\n",
    "for epoch in range(epochs):\n",
    "    # **Forward Propagation**\n",
    "    hidden_input = np.dot(X, weights_input_hidden) + bias_hidden\n",
    "    hidden_output = sigmoid(hidden_input)  # Activation at hidden layer\n",
    "    \n",
    "    final_input = np.dot(hidden_output, weights_hidden_output) + bias_output\n",
    "    final_output = sigmoid(final_input)  # Activation at output layer\n",
    "\n",
    "    # **Backpropagation**\n",
    "    error = y - final_output  # Compute error\n",
    "    d_output = error * sigmoid_derivative(final_output)  # Output layer gradient\n",
    "    \n",
    "    error_hidden = d_output.dot(weights_hidden_output.T)\n",
    "    d_hidden = error_hidden * sigmoid_derivative(hidden_output)  # Hidden layer gradient\n",
    "\n",
    "    # **Update Weights and Biases**\n",
    "    weights_hidden_output += hidden_output.T.dot(d_output) * learning_rate\n",
    "    weights_input_hidden += X.T.dot(d_hidden) * learning_rate\n",
    "    bias_output += np.sum(d_output, axis=0, keepdims=True) * learning_rate\n",
    "    bias_hidden += np.sum(d_hidden, axis=0, keepdims=True) * learning_rate\n",
    "\n",
    "    # Print loss every 1000 epochs\n",
    "    if epoch % 1000 == 0:\n",
    "        loss = np.mean(np.abs(error))\n",
    "        print(f\"Epoch {epoch}, Loss: {loss:.4f}\")\n",
    "\n",
    "# **Testing**\n",
    "print(\"\\nFinal Predictions:\")\n",
    "for i in range(len(X)):\n",
    "    hidden_layer = sigmoid(np.dot(X[i], weights_input_hidden) + bias_hidden)\n",
    "    output = sigmoid(np.dot(hidden_layer, weights_hidden_output) + bias_output)\n",
    "    print(f\"Input: {X[i]} => Predicted: {output[0][0]:.4f}\")\n"
   ]
  },
  {
   "cell_type": "code",
   "execution_count": null,
   "id": "215f811c",
   "metadata": {},
   "outputs": [],
   "source": []
  }
 ],
 "metadata": {
  "kernelspec": {
   "display_name": "Python 3 (ipykernel)",
   "language": "python",
   "name": "python3"
  },
  "language_info": {
   "codemirror_mode": {
    "name": "ipython",
    "version": 3
   },
   "file_extension": ".py",
   "mimetype": "text/x-python",
   "name": "python",
   "nbconvert_exporter": "python",
   "pygments_lexer": "ipython3",
   "version": "3.10.5"
  }
 },
 "nbformat": 4,
 "nbformat_minor": 5
}
